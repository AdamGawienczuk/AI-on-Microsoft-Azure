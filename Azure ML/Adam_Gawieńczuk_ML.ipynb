{
  "cells": [
    {
      "cell_type": "markdown",
      "source": [
        "Jako zbiór danych wybrałem dane o COVID-19. Zbiór zaimportowałem do zasobów Azure ML w rozszerzeniu CSV. Azure automatyncznie dobiera typy danych, należy tylko wybrać pierwsze wiersze jako nazwy kolumn.\r\n",
        "Eksperyment miał na celu przewidzenie sumy zachorowań w Polsce miesiąc od ostatnich wprowadzonych danych. Do tego celu za pomocą pipelines oddzieliłem z danych tylko wiersze dotyczące Polski.\r\n",
        "Podczas pierwszej próby użyłem Zautomatyzowanego uczenia maszynowego, uczenie powiodło się i zwrócone zostały dane statystyczne.\r\n",
        "Drugą próbą było wykorzystanie notebooka.\r\n"
      ],
      "metadata": {
        "nteract": {
          "transient": {
            "deleting": false
          }
        }
      }
    },
    {
      "cell_type": "markdown",
      "source": [
        "Pierwszym krokiem było zaimporotwanie bibliotek dla Azure ML Workspace i przygotowanie środowiska"
      ],
      "metadata": {
        "nteract": {
          "transient": {
            "deleting": false
          }
        }
      }
    },
    {
      "cell_type": "code",
      "source": [
        "import azureml.core\r\n",
        "\r\n",
        "print(\"SDK version:\", azureml.core.VERSION)"
      ],
      "outputs": [
        {
          "output_type": "stream",
          "name": "stdout",
          "text": [
            "SDK version: 1.20.0\n"
          ]
        }
      ],
      "execution_count": 25,
      "metadata": {
        "gather": {
          "logged": 1611700075655
        }
      }
    },
    {
      "cell_type": "code",
      "source": [
        "from azureml.core import Workspace, Dataset\r\n",
        "ws = Workspace.from_config()"
      ],
      "outputs": [],
      "execution_count": 26,
      "metadata": {
        "collapsed": true,
        "jupyter": {
          "source_hidden": false,
          "outputs_hidden": false
        },
        "nteract": {
          "transient": {
            "deleting": false
          }
        },
        "gather": {
          "logged": 1611700079922
        }
      }
    },
    {
      "cell_type": "markdown",
      "source": [
        "Następnie załadowane zostały dane, wybrałem tylko 2 potrzebne kolumny, ponieważ przy większej ilości występował błąd podczas uczenia."
      ],
      "metadata": {
        "nteract": {
          "transient": {
            "deleting": false
          }
        }
      }
    },
    {
      "cell_type": "code",
      "source": [
        "columns = ['date','total_cases']\r\n",
        "aml_dataset = ws.datasets['Poland'].keep_columns(columns, validate=False)\r\n",
        "full_df = aml_dataset.to_pandas_dataframe()\r\n",
        "full_df.head(5)"
      ],
      "outputs": [
        {
          "output_type": "execute_result",
          "execution_count": 52,
          "data": {
            "text/plain": "        date  total_cases\n0 2020-03-04            1\n1 2020-03-05            1\n2 2020-03-06            5\n3 2020-03-07            5\n4 2020-03-08           11",
            "text/html": "<div>\n<style scoped>\n    .dataframe tbody tr th:only-of-type {\n        vertical-align: middle;\n    }\n\n    .dataframe tbody tr th {\n        vertical-align: top;\n    }\n\n    .dataframe thead th {\n        text-align: right;\n    }\n</style>\n<table border=\"1\" class=\"dataframe\">\n  <thead>\n    <tr style=\"text-align: right;\">\n      <th></th>\n      <th>date</th>\n      <th>total_cases</th>\n    </tr>\n  </thead>\n  <tbody>\n    <tr>\n      <th>0</th>\n      <td>2020-03-04</td>\n      <td>1</td>\n    </tr>\n    <tr>\n      <th>1</th>\n      <td>2020-03-05</td>\n      <td>1</td>\n    </tr>\n    <tr>\n      <th>2</th>\n      <td>2020-03-06</td>\n      <td>5</td>\n    </tr>\n    <tr>\n      <th>3</th>\n      <td>2020-03-07</td>\n      <td>5</td>\n    </tr>\n    <tr>\n      <th>4</th>\n      <td>2020-03-08</td>\n      <td>11</td>\n    </tr>\n  </tbody>\n</table>\n</div>"
          },
          "metadata": {}
        }
      ],
      "execution_count": 52,
      "metadata": {
        "collapsed": true,
        "jupyter": {
          "source_hidden": false,
          "outputs_hidden": false
        },
        "nteract": {
          "transient": {
            "deleting": false
          }
        },
        "gather": {
          "logged": 1611703136868
        }
      }
    },
    {
      "cell_type": "code",
      "source": [
        "full_df.describe()"
      ],
      "outputs": [
        {
          "output_type": "execute_result",
          "execution_count": 28,
          "data": {
            "text/plain": "        total_cases     new_cases  new_cases_smoothed  total_deaths  \\\ncount  3.280000e+02    328.000000          323.000000    320.000000   \nmean   3.194374e+05   4506.460366         4529.488737   6952.284375   \nstd    4.792474e+05   6949.164790         6758.186515  10140.638816   \nmin    1.000000e+00      0.000000            2.286000      1.000000   \n25%    2.155475e+04    318.750000          340.214000   1063.250000   \n50%    5.570450e+04    595.000000          606.429000   1904.500000   \n75%    4.463218e+05   7006.500000         8139.714500   7374.250000   \nmax    1.478119e+06  32733.000000        25611.000000  35401.000000   \n\n       new_deaths  new_deaths_smoothed  total_cases_per_million  \\\ncount  320.000000           323.000000               328.000000   \nmean   110.628125           107.618307              8440.319104   \nstd    174.673549           152.403750             12662.889413   \nmin      0.000000             0.000000                 0.026000   \n25%     10.000000            10.714000               569.529250   \n50%     18.000000            16.143000              1471.849000   \n75%    130.500000           235.500000             11792.914000   \nmax    674.000000           505.286000             39055.524000   \n\n       new_cases_per_million  new_cases_smoothed_per_million  \\\ncount              328.00000                      323.000000   \nmean               119.07175                      119.680189   \nstd                183.61395                      178.567843   \nmin                  0.00000                        0.060000   \n25%                  8.42225                        8.989000   \n50%                 15.72100                       16.023000   \n75%                185.12925                      215.071000   \nmax                864.88600                      676.705000   \n\n       total_deaths_per_million  ...  aged_65_older  aged_70_older  \\\ncount                320.000000  ...   3.280000e+02   3.280000e+02   \nmean                 183.696388  ...   1.676300e+01   1.020200e+01   \nstd                  267.940525  ...   6.404655e-14   8.717447e-14   \nmin                    0.026000  ...   1.676300e+01   1.020200e+01   \n25%                   28.093250  ...   1.676300e+01   1.020200e+01   \n50%                   50.321500  ...   1.676300e+01   1.020200e+01   \n75%                  194.845500  ...   1.676300e+01   1.020200e+01   \nmax                  935.381000  ...   1.676300e+01   1.020200e+01   \n\n       gdp_per_capita  cardiovasc_death_rate  diabetes_prevalence  \\\ncount    3.280000e+02           3.280000e+02         3.280000e+02   \nmean     2.721645e+04           2.273310e+02         5.910000e+00   \nstd      1.238803e-10           3.985119e-13         3.291281e-14   \nmin      2.721644e+04           2.273310e+02         5.910000e+00   \n25%      2.721644e+04           2.273310e+02         5.910000e+00   \n50%      2.721644e+04           2.273310e+02         5.910000e+00   \n75%      2.721644e+04           2.273310e+02         5.910000e+00   \nmax      2.721644e+04           2.273310e+02         5.910000e+00   \n\n       female_smokers  male_smokers  hospital_beds_per_thousand  \\\ncount    3.280000e+02  3.280000e+02                3.280000e+02   \nmean     2.330000e+01  3.310000e+01                6.620000e+00   \nstd      1.245350e-13  1.992559e-13                5.515120e-14   \nmin      2.330000e+01  3.310000e+01                6.620000e+00   \n25%      2.330000e+01  3.310000e+01                6.620000e+00   \n50%      2.330000e+01  3.310000e+01                6.620000e+00   \n75%      2.330000e+01  3.310000e+01                6.620000e+00   \nmax      2.330000e+01  3.310000e+01                6.620000e+00   \n\n       life_expectancy  human_development_index  \ncount     3.280000e+02             3.280000e+02  \nmean      7.873000e+01             8.650000e-01  \nstd       3.700467e-13             3.891718e-15  \nmin       7.873000e+01             8.650000e-01  \n25%       7.873000e+01             8.650000e-01  \n50%       7.873000e+01             8.650000e-01  \n75%       7.873000e+01             8.650000e-01  \nmax       7.873000e+01             8.650000e-01  \n\n[8 rows x 37 columns]",
            "text/html": "<div>\n<style scoped>\n    .dataframe tbody tr th:only-of-type {\n        vertical-align: middle;\n    }\n\n    .dataframe tbody tr th {\n        vertical-align: top;\n    }\n\n    .dataframe thead th {\n        text-align: right;\n    }\n</style>\n<table border=\"1\" class=\"dataframe\">\n  <thead>\n    <tr style=\"text-align: right;\">\n      <th></th>\n      <th>total_cases</th>\n      <th>new_cases</th>\n      <th>new_cases_smoothed</th>\n      <th>total_deaths</th>\n      <th>new_deaths</th>\n      <th>new_deaths_smoothed</th>\n      <th>total_cases_per_million</th>\n      <th>new_cases_per_million</th>\n      <th>new_cases_smoothed_per_million</th>\n      <th>total_deaths_per_million</th>\n      <th>...</th>\n      <th>aged_65_older</th>\n      <th>aged_70_older</th>\n      <th>gdp_per_capita</th>\n      <th>cardiovasc_death_rate</th>\n      <th>diabetes_prevalence</th>\n      <th>female_smokers</th>\n      <th>male_smokers</th>\n      <th>hospital_beds_per_thousand</th>\n      <th>life_expectancy</th>\n      <th>human_development_index</th>\n    </tr>\n  </thead>\n  <tbody>\n    <tr>\n      <th>count</th>\n      <td>3.280000e+02</td>\n      <td>328.000000</td>\n      <td>323.000000</td>\n      <td>320.000000</td>\n      <td>320.000000</td>\n      <td>323.000000</td>\n      <td>328.000000</td>\n      <td>328.00000</td>\n      <td>323.000000</td>\n      <td>320.000000</td>\n      <td>...</td>\n      <td>3.280000e+02</td>\n      <td>3.280000e+02</td>\n      <td>3.280000e+02</td>\n      <td>3.280000e+02</td>\n      <td>3.280000e+02</td>\n      <td>3.280000e+02</td>\n      <td>3.280000e+02</td>\n      <td>3.280000e+02</td>\n      <td>3.280000e+02</td>\n      <td>3.280000e+02</td>\n    </tr>\n    <tr>\n      <th>mean</th>\n      <td>3.194374e+05</td>\n      <td>4506.460366</td>\n      <td>4529.488737</td>\n      <td>6952.284375</td>\n      <td>110.628125</td>\n      <td>107.618307</td>\n      <td>8440.319104</td>\n      <td>119.07175</td>\n      <td>119.680189</td>\n      <td>183.696388</td>\n      <td>...</td>\n      <td>1.676300e+01</td>\n      <td>1.020200e+01</td>\n      <td>2.721645e+04</td>\n      <td>2.273310e+02</td>\n      <td>5.910000e+00</td>\n      <td>2.330000e+01</td>\n      <td>3.310000e+01</td>\n      <td>6.620000e+00</td>\n      <td>7.873000e+01</td>\n      <td>8.650000e-01</td>\n    </tr>\n    <tr>\n      <th>std</th>\n      <td>4.792474e+05</td>\n      <td>6949.164790</td>\n      <td>6758.186515</td>\n      <td>10140.638816</td>\n      <td>174.673549</td>\n      <td>152.403750</td>\n      <td>12662.889413</td>\n      <td>183.61395</td>\n      <td>178.567843</td>\n      <td>267.940525</td>\n      <td>...</td>\n      <td>6.404655e-14</td>\n      <td>8.717447e-14</td>\n      <td>1.238803e-10</td>\n      <td>3.985119e-13</td>\n      <td>3.291281e-14</td>\n      <td>1.245350e-13</td>\n      <td>1.992559e-13</td>\n      <td>5.515120e-14</td>\n      <td>3.700467e-13</td>\n      <td>3.891718e-15</td>\n    </tr>\n    <tr>\n      <th>min</th>\n      <td>1.000000e+00</td>\n      <td>0.000000</td>\n      <td>2.286000</td>\n      <td>1.000000</td>\n      <td>0.000000</td>\n      <td>0.000000</td>\n      <td>0.026000</td>\n      <td>0.00000</td>\n      <td>0.060000</td>\n      <td>0.026000</td>\n      <td>...</td>\n      <td>1.676300e+01</td>\n      <td>1.020200e+01</td>\n      <td>2.721644e+04</td>\n      <td>2.273310e+02</td>\n      <td>5.910000e+00</td>\n      <td>2.330000e+01</td>\n      <td>3.310000e+01</td>\n      <td>6.620000e+00</td>\n      <td>7.873000e+01</td>\n      <td>8.650000e-01</td>\n    </tr>\n    <tr>\n      <th>25%</th>\n      <td>2.155475e+04</td>\n      <td>318.750000</td>\n      <td>340.214000</td>\n      <td>1063.250000</td>\n      <td>10.000000</td>\n      <td>10.714000</td>\n      <td>569.529250</td>\n      <td>8.42225</td>\n      <td>8.989000</td>\n      <td>28.093250</td>\n      <td>...</td>\n      <td>1.676300e+01</td>\n      <td>1.020200e+01</td>\n      <td>2.721644e+04</td>\n      <td>2.273310e+02</td>\n      <td>5.910000e+00</td>\n      <td>2.330000e+01</td>\n      <td>3.310000e+01</td>\n      <td>6.620000e+00</td>\n      <td>7.873000e+01</td>\n      <td>8.650000e-01</td>\n    </tr>\n    <tr>\n      <th>50%</th>\n      <td>5.570450e+04</td>\n      <td>595.000000</td>\n      <td>606.429000</td>\n      <td>1904.500000</td>\n      <td>18.000000</td>\n      <td>16.143000</td>\n      <td>1471.849000</td>\n      <td>15.72100</td>\n      <td>16.023000</td>\n      <td>50.321500</td>\n      <td>...</td>\n      <td>1.676300e+01</td>\n      <td>1.020200e+01</td>\n      <td>2.721644e+04</td>\n      <td>2.273310e+02</td>\n      <td>5.910000e+00</td>\n      <td>2.330000e+01</td>\n      <td>3.310000e+01</td>\n      <td>6.620000e+00</td>\n      <td>7.873000e+01</td>\n      <td>8.650000e-01</td>\n    </tr>\n    <tr>\n      <th>75%</th>\n      <td>4.463218e+05</td>\n      <td>7006.500000</td>\n      <td>8139.714500</td>\n      <td>7374.250000</td>\n      <td>130.500000</td>\n      <td>235.500000</td>\n      <td>11792.914000</td>\n      <td>185.12925</td>\n      <td>215.071000</td>\n      <td>194.845500</td>\n      <td>...</td>\n      <td>1.676300e+01</td>\n      <td>1.020200e+01</td>\n      <td>2.721644e+04</td>\n      <td>2.273310e+02</td>\n      <td>5.910000e+00</td>\n      <td>2.330000e+01</td>\n      <td>3.310000e+01</td>\n      <td>6.620000e+00</td>\n      <td>7.873000e+01</td>\n      <td>8.650000e-01</td>\n    </tr>\n    <tr>\n      <th>max</th>\n      <td>1.478119e+06</td>\n      <td>32733.000000</td>\n      <td>25611.000000</td>\n      <td>35401.000000</td>\n      <td>674.000000</td>\n      <td>505.286000</td>\n      <td>39055.524000</td>\n      <td>864.88600</td>\n      <td>676.705000</td>\n      <td>935.381000</td>\n      <td>...</td>\n      <td>1.676300e+01</td>\n      <td>1.020200e+01</td>\n      <td>2.721644e+04</td>\n      <td>2.273310e+02</td>\n      <td>5.910000e+00</td>\n      <td>2.330000e+01</td>\n      <td>3.310000e+01</td>\n      <td>6.620000e+00</td>\n      <td>7.873000e+01</td>\n      <td>8.650000e-01</td>\n    </tr>\n  </tbody>\n</table>\n<p>8 rows × 37 columns</p>\n</div>"
          },
          "metadata": {}
        }
      ],
      "execution_count": 28,
      "metadata": {
        "collapsed": true,
        "jupyter": {
          "source_hidden": false,
          "outputs_hidden": false
        },
        "nteract": {
          "transient": {
            "deleting": false
          }
        },
        "gather": {
          "logged": 1611700088547
        }
      }
    },
    {
      "cell_type": "markdown",
      "source": [
        "By można było przeprowadzić uczenie konieczne jest połączenie z clusterem obliczeniowym."
      ],
      "metadata": {
        "nteract": {
          "transient": {
            "deleting": false
          }
        }
      }
    },
    {
      "cell_type": "code",
      "source": [
        "from azureml.core.compute import AmlCompute\r\n",
        "from azureml.core.compute import ComputeTarget\r\n",
        "\r\n",
        "ComputeTarget.list(ws)"
      ],
      "outputs": [
        {
          "output_type": "execute_result",
          "execution_count": 29,
          "data": {
            "text/plain": "[{\n   \"id\": \"/subscriptions/d6ac2b6d-798c-4c8b-aa46-2927fa201cd5/resourceGroups/ml/providers/Microsoft.MachineLearningServices/workspaces/machinelearning/computes/testMLchmury\",\n   \"name\": \"testMLchmury\",\n   \"location\": \"northeurope\",\n   \"tags\": null,\n   \"properties\": {\n     \"description\": null,\n     \"computeType\": \"ComputeInstance\",\n     \"computeLocation\": \"northeurope\",\n     \"resourceId\": null,\n     \"provisioningErrors\": null,\n     \"provisioningState\": \"Succeeded\",\n     \"properties\": {\n       \"vmSize\": \"STANDARD_DS2_V2\",\n       \"applications\": [\n         {\n           \"displayName\": \"Jupyter\",\n           \"endpointUri\": \"https://testmlchmury.northeurope.instances.azureml.ms\"\n         },\n         {\n           \"displayName\": \"Jupyter Lab\",\n           \"endpointUri\": \"https://testmlchmury.northeurope.instances.azureml.ms/lab\"\n         },\n         {\n           \"displayName\": \"RStudio\",\n           \"endpointUri\": \"https://testmlchmury-8787.northeurope.instances.azureml.ms\"\n         }\n       ],\n       \"connectivityEndpoints\": {\n         \"publicIpAddress\": \"20.67.184.88\",\n         \"privateIpAddress\": \"10.0.0.5\"\n       },\n       \"sshSettings\": {\n         \"sshPublicAccess\": \"Disabled\",\n         \"adminUserName\": \"azureuser\",\n         \"adminPublicKey\": null,\n         \"sshPort\": 4001\n       },\n       \"personalComputeInstanceSettings\": null,\n       \"subnet\": {\n         \"id\": null\n       },\n       \"errors\": []\n     },\n     \"status\": {\n       \"errors\": [],\n       \"creationTime\": \"2021-01-26T14:33:17.849682+00:00\",\n       \"createdBy\": {\n         \"userObjectId\": \"1d560a7f-09a2-41c2-9ddc-ec1db76ad069\",\n         \"userTenantId\": \"3b50229c-cd78-4588-9bcf-97b7629e2f0f\",\n         \"userName\": \"Gawie\\u0144czuk Adam (STUD)\"\n       },\n       \"modifiedTime\": \"2021-01-26T14:36:04.183841+00:00\",\n       \"state\": \"Running\",\n       \"vmSize\": \"STANDARD_DS2_V2\"\n     }\n   }\n },\n AmlCompute(workspace=Workspace.create(name='machinelearning', subscription_id='d6ac2b6d-798c-4c8b-aa46-2927fa201cd5', resource_group='ml'), name=test2, id=/subscriptions/d6ac2b6d-798c-4c8b-aa46-2927fa201cd5/resourceGroups/ml/providers/Microsoft.MachineLearningServices/workspaces/machinelearning/computes/test2, type=AmlCompute, provisioning_state=Succeeded, location=northeurope, tags=None)]"
          },
          "metadata": {}
        }
      ],
      "execution_count": 29,
      "metadata": {
        "collapsed": true,
        "jupyter": {
          "source_hidden": false,
          "outputs_hidden": false
        },
        "nteract": {
          "transient": {
            "deleting": false
          }
        },
        "gather": {
          "logged": 1611700092963
        }
      }
    },
    {
      "cell_type": "code",
      "source": [
        "amlcompute_cluster_name = \"testMLchmury\"\r\n",
        "\r\n",
        "cts = ws.compute_targets\r\n",
        "\r\n",
        "aml_remote_compute = cts[amlcompute_cluster_name]"
      ],
      "outputs": [],
      "execution_count": 30,
      "metadata": {
        "collapsed": true,
        "jupyter": {
          "source_hidden": false,
          "outputs_hidden": false
        },
        "nteract": {
          "transient": {
            "deleting": false
          }
        },
        "gather": {
          "logged": 1611700097447
        }
      }
    },
    {
      "cell_type": "code",
      "source": [
        "aml_remote_compute.get_status().serialize()"
      ],
      "outputs": [
        {
          "output_type": "execute_result",
          "execution_count": 31,
          "data": {
            "text/plain": "{'errors': [],\n 'creationTime': '2021-01-26T14:33:17.849682+00:00',\n 'createdBy': {'userObjectId': '1d560a7f-09a2-41c2-9ddc-ec1db76ad069',\n  'userTenantId': '3b50229c-cd78-4588-9bcf-97b7629e2f0f',\n  'userName': 'Gawieńczuk Adam (STUD)'},\n 'modifiedTime': '2021-01-26T14:36:04.183841+00:00',\n 'state': 'Running',\n 'vmSize': 'STANDARD_DS2_V2'}"
          },
          "metadata": {}
        }
      ],
      "execution_count": 31,
      "metadata": {
        "collapsed": true,
        "jupyter": {
          "source_hidden": false,
          "outputs_hidden": false
        },
        "nteract": {
          "transient": {
            "deleting": false
          }
        },
        "gather": {
          "logged": 1611700101177
        }
      }
    },
    {
      "cell_type": "markdown",
      "source": [
        "Import bibliotek AutoML"
      ],
      "metadata": {
        "nteract": {
          "transient": {
            "deleting": false
          }
        }
      }
    },
    {
      "cell_type": "code",
      "source": [
        "from azureml.train import automl"
      ],
      "outputs": [],
      "execution_count": 32,
      "metadata": {
        "collapsed": true,
        "jupyter": {
          "source_hidden": false,
          "outputs_hidden": false
        },
        "nteract": {
          "transient": {
            "deleting": false
          }
        },
        "gather": {
          "logged": 1611700104448
        }
      }
    },
    {
      "cell_type": "code",
      "source": [
        "from azureml.train.automl import AutoMLConfig"
      ],
      "outputs": [],
      "execution_count": 33,
      "metadata": {
        "collapsed": true,
        "jupyter": {
          "source_hidden": false,
          "outputs_hidden": false
        },
        "nteract": {
          "transient": {
            "deleting": false
          }
        },
        "gather": {
          "logged": 1611700107718
        }
      }
    },
    {
      "cell_type": "markdown",
      "source": [
        "Konfiguracja uczenia, poprzez podanie kolumny z czasem, zakresem przewidywania, typem zadania, algorytmem uczącym, zbiorem danych i innymi potrzebnymi danymi."
      ],
      "metadata": {
        "nteract": {
          "transient": {
            "deleting": false
          }
        }
      }
    },
    {
      "cell_type": "code",
      "source": [
        "time_series_settings = {\r\n",
        "    'time_column_name': 'date',\r\n",
        "    'forecast_horizon': 30\r\n",
        "}\r\n",
        "\r\n",
        "automl_config = AutoMLConfig(task = 'forecasting',\r\n",
        "                             debug_log='debug1.log',\r\n",
        "                             primary_metric='normalized_root_mean_squared_error',\r\n",
        "                             experiment_timeout_minutes=20,\r\n",
        "                             training_data=aml_dataset,\r\n",
        "                             label_column_name='total_cases',\r\n",
        "                             n_cross_validations=5,\r\n",
        "                             path='./normalized_root_mean_squared_error',\r\n",
        "                             verbosity=logging.INFO,\r\n",
        "                             **time_series_settings)"
      ],
      "outputs": [],
      "execution_count": 71,
      "metadata": {
        "collapsed": true,
        "jupyter": {
          "source_hidden": false,
          "outputs_hidden": false
        },
        "nteract": {
          "transient": {
            "deleting": false
          }
        },
        "gather": {
          "logged": 1611706748784
        }
      }
    },
    {
      "cell_type": "markdown",
      "source": [
        "Po skonfigurowaniu uczenia może zostać ono rozpoczęte."
      ],
      "metadata": {
        "nteract": {
          "transient": {
            "deleting": false
          }
        }
      }
    },
    {
      "cell_type": "code",
      "source": [
        "from azureml.core import Experiment\r\n",
        "from datetime import datetime\r\n",
        "\r\n",
        "now = datetime.now()\r\n",
        "time_string = now.strftime(\"%m-%d-%Y-%H\")\r\n",
        "experiment_name = \"normalized_root_mean_squared_error-{0}\".format(time_string)\r\n",
        "print(experiment_name)\r\n",
        "\r\n",
        "experiment = Experiment(workspace=ws, name=experiment_name)\r\n",
        "\r\n",
        "import time\r\n",
        "start_time = time.time()\r\n",
        "            \r\n",
        "run = experiment.submit(automl_config, show_output=True)\r\n",
        "\r\n",
        "\r\n",
        "print('Manual run timing: --- %s seconds needed for running the whole Remote AutoML Experiment ---' % (time.time() - start_time))"
      ],
      "outputs": [
        {
          "output_type": "stream",
          "name": "stdout",
          "text": [
            "normalized_root_mean_squared_error-01-26-2021-23\n",
            "No run_configuration provided, running on local with default configuration\n",
            "Running on local machine\n",
            "Parent Run ID: AutoML_b24b44d6-2616-4522-ae7b-04c865b6125f\n",
            "\n",
            "Current status: DatasetFeaturization. Beginning to featurize the dataset.\n",
            "Current status: DatasetFeaturizationCompleted. Completed featurizing the dataset.\n",
            "Current status: DatasetCrossValidationSplit. Generating individually featurized CV splits.\n",
            "Current status: DatasetFeaturization. Beginning to featurize the CV split.\n",
            "Current status: DatasetFeaturizationCompleted. Completed featurizing the CV split.\n",
            "Current status: DatasetFeaturization. Beginning to featurize the CV split.\n",
            "Current status: DatasetFeaturizationCompleted. Completed featurizing the CV split.\n",
            "Current status: DatasetFeaturization. Beginning to featurize the CV split.\n",
            "Current status: DatasetFeaturizationCompleted. Completed featurizing the CV split.\n",
            "Current status: DatasetFeaturization. Beginning to featurize the CV split.\n",
            "Current status: DatasetFeaturizationCompleted. Completed featurizing the CV split.\n",
            "Current status: DatasetFeaturization. Beginning to featurize the CV split.\n",
            "Current status: DatasetFeaturizationCompleted. Completed featurizing the CV split.\n",
            "\n",
            "****************************************************************************************************\n",
            "DATA GUARDRAILS: \n",
            "\n",
            "TYPE:         Frequency detection\n",
            "STATUS:       PASSED\n",
            "DESCRIPTION:  The time series was analyzed, all data points are aligned with detected frequency.\n",
            "              \n",
            "\n",
            "****************************************************************************************************\n",
            "\n",
            "TYPE:         Short series handling\n",
            "STATUS:       PASSED\n",
            "DESCRIPTION:  Automated ML detected enough data points for each series in the input data to continue with training.\n",
            "              \n",
            "\n",
            "****************************************************************************************************\n",
            "\n",
            "TYPE:         Missing feature values imputation\n",
            "STATUS:       PASSED\n",
            "DESCRIPTION:  No feature missing values were detected in the training data.\n",
            "              Learn more about missing value imputation: https://aka.ms/AutomatedMLFeaturization\n",
            "\n",
            "****************************************************************************************************\n",
            "Current status: ModelSelection. Beginning model selection.\n",
            "\n",
            "****************************************************************************************************\n",
            "ITERATION: The iteration being evaluated.\n",
            "PIPELINE: A summary description of the pipeline being evaluated.\n",
            "DURATION: Time taken for the current iteration.\n",
            "METRIC: The result of computing score on the fitted pipeline.\n",
            "BEST: The best observed score thus far.\n",
            "****************************************************************************************************\n",
            "\n",
            " ITERATION   PIPELINE                                       DURATION      METRIC      BEST\n",
            "         0   RobustScaler LassoLars                         0:00:25       1.0000    1.0000\n",
            "         1   RobustScaler DecisionTree                      0:00:23       0.7904    0.7904\n",
            "         2   StandardScalerWrapper DecisionTree             0:00:23       0.7879    0.7879\n",
            "         3   RobustScaler DecisionTree                      0:00:23       0.7906    0.7879\n",
            "         4   StandardScalerWrapper ElasticNet               0:00:26       1.0000    0.7879\n",
            "         5   MinMaxScaler DecisionTree                      0:00:26       0.7942    0.7879\n",
            "         6   MinMaxScaler ElasticNet                        0:00:26       1.0000    0.7879\n",
            "         7   StandardScalerWrapper DecisionTree             0:00:25       0.7863    0.7863\n",
            "         8   StandardScalerWrapper DecisionTree             0:00:23       0.7947    0.7863\n",
            "         9   RobustScaler DecisionTree                      0:00:23       0.7908    0.7863\n",
            "        10   RobustScaler ElasticNet                        0:00:23       1.0000    0.7863\n",
            "        11   RobustScaler DecisionTree                      0:00:24       0.7897    0.7863\n",
            "        12   RobustScaler DecisionTree                      0:00:23       0.7887    0.7863\n",
            "        13   StandardScalerWrapper DecisionTree             0:00:23       0.7877    0.7863\n",
            "        14   MinMaxScaler DecisionTree                      0:00:23       0.7905    0.7863\n",
            "        15   MinMaxScaler DecisionTree                      0:00:23       0.7901    0.7863\n",
            "        16   RobustScaler DecisionTree                      0:00:23       0.7892    0.7863\n",
            "        17   StandardScalerWrapper DecisionTree             0:00:25       0.7891    0.7863\n",
            "        18   MinMaxScaler DecisionTree                      0:00:23       0.7830    0.7830\n",
            "        19   StandardScalerWrapper LassoLars                0:00:23       1.0000    0.7830\n",
            "        20   MinMaxScaler RandomForest                      0:00:30       0.7902    0.7830\n",
            "        21   StandardScalerWrapper DecisionTree             0:00:24       0.7897    0.7830\n",
            "        22   RobustScaler RandomForest                      0:00:23       0.7863    0.7830\n",
            "        23   MinMaxScaler RandomForest                      0:00:25       0.7902    0.7830\n",
            "        24   MinMaxScaler RandomForest                      0:00:24       0.7886    0.7830\n",
            "        25   PCA DecisionTree                               0:00:23       0.8019    0.7830\n",
            "        26   MinMaxScaler RandomForest                      0:00:24       0.7890    0.7830\n",
            "        27   MinMaxScaler RandomForest                      0:00:25       0.7905    0.7830\n",
            "        28   StandardScalerWrapper DecisionTree             0:00:24       0.7863    0.7830\n",
            "        29   StandardScalerWrapper DecisionTree             0:00:23       0.7862    0.7830\n",
            "        30   PCA DecisionTree                               0:00:24       0.8846    0.7830\n",
            "        31   MaxAbsScaler RandomForest                      0:00:30       0.7888    0.7830\n",
            "        32   MinMaxScaler LightGBM                          0:00:28       0.7998    0.7830\n",
            "        33   StandardScalerWrapper DecisionTree             0:00:24       0.7905    0.7830\n",
            "        34   MinMaxScaler LightGBM                          0:00:24       0.7854    0.7830\n",
            "        35   PCA DecisionTree                               0:00:23       0.8850    0.7830\n",
            "        36   RobustScaler RandomForest                      0:00:23       0.7891    0.7830\n",
            "        37   MinMaxScaler DecisionTree                      0:00:23       0.7887    0.7830\n",
            "        38   StandardScalerWrapper DecisionTree             0:00:26       0.7908    0.7830\n",
            "        39   MinMaxScaler RandomForest                      0:00:29       0.7907    0.7830\n",
            "        40   PCA DecisionTree                               0:00:24       0.8825    0.7830\n",
            "        41   MinMaxScaler LightGBM                          0:00:25       0.7851    0.7830\n",
            "        42   StandardScalerWrapper RandomForest             0:00:23       0.7887    0.7830\n",
            "        43   StandardScalerWrapper LightGBM                 0:00:28       0.7976    0.7830\n",
            "        44   RobustScaler RandomForest                      0:00:27       0.7876    0.7830\n",
            "        45   StandardScalerWrapper DecisionTree             0:00:24       0.7964    0.7830\n",
            "        46   VotingEnsemble                                 0:00:41       0.7823    0.7823\n",
            "Stopping criteria reached at iteration 47. Ending experiment.\n",
            "****************************************************************************************************\n",
            "Current status: BestRunExplainModel. Best run model explanations started\n",
            "Current status: ModelExplanationDataSetSetup. Model explanations data setup completed\n",
            "Current status: PickSurrogateModel. Choosing LightGBM as the surrogate model for explanations\n",
            "Current status: EngineeredFeatureExplanations. Computation of engineered features started\n",
            "Current status: EngineeredFeatureExplanations. Computation of engineered features completed\n",
            "Current status: RawFeaturesExplanations. Computation of raw features started\n",
            "Current status: RawFeaturesExplanations. Computation of raw features completed\n",
            "Current status: BestRunExplainModel. Best run model explanations completed\n",
            "****************************************************************************************************\n",
            "Manual run timing: --- 1412.2166023254395 seconds needed for running the whole Remote AutoML Experiment ---\n"
          ]
        }
      ],
      "execution_count": 54,
      "metadata": {
        "collapsed": true,
        "jupyter": {
          "source_hidden": false,
          "outputs_hidden": false
        },
        "nteract": {
          "transient": {
            "deleting": false
          }
        },
        "gather": {
          "logged": 1611704561525
        }
      }
    },
    {
      "cell_type": "markdown",
      "source": [
        "Wybór najlepszego przebiegu do testu działania nauczonej sieci."
      ],
      "metadata": {
        "nteract": {
          "transient": {
            "deleting": false
          }
        }
      }
    },
    {
      "cell_type": "code",
      "source": [
        "best_run, fitted_model = run.get_output()"
      ],
      "outputs": [],
      "execution_count": 62,
      "metadata": {
        "collapsed": true,
        "jupyter": {
          "source_hidden": false,
          "outputs_hidden": false
        },
        "nteract": {
          "transient": {
            "deleting": false
          }
        },
        "gather": {
          "logged": 1611705404958
        }
      }
    },
    {
      "cell_type": "markdown",
      "source": [
        "Test się nie powiódł, nie udało się wykonać przewidywania na danych testowych i zwrócenia danych w postaci wykresu."
      ],
      "metadata": {
        "nteract": {
          "transient": {
            "deleting": false
          }
        }
      }
    }
  ],
  "metadata": {
    "kernelspec": {
      "name": "python3-azureml",
      "language": "python",
      "display_name": "Python 3.6 - AzureML"
    },
    "language_info": {
      "name": "python",
      "version": "3.6.9",
      "mimetype": "text/x-python",
      "codemirror_mode": {
        "name": "ipython",
        "version": 3
      },
      "pygments_lexer": "ipython3",
      "nbconvert_exporter": "python",
      "file_extension": ".py"
    },
    "kernel_info": {
      "name": "python3-azureml"
    },
    "nteract": {
      "version": "nteract-front-end@1.0.0"
    }
  },
  "nbformat": 4,
  "nbformat_minor": 2
}
